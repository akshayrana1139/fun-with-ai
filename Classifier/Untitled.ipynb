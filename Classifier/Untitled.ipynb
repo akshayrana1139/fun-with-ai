{
 "cells": [
  {
   "cell_type": "markdown",
   "metadata": {},
   "source": [
    "# Decision Trees "
   ]
  },
  {
   "cell_type": "markdown",
   "metadata": {},
   "source": [
    "This is a supervised learning algorithm which can be used in discrete or continuous data for classification or regression. The Algorithm used in the decision trees are ID3 , C4.5, CART, C5.0, CHAID, QUEST, CRUISE, etc"
   ]
  },
  {
   "cell_type": "markdown",
   "metadata": {},
   "source": [
    "**ID3**     Iternative Dichotomizer (Uses : Information Gain) -  Ross Quinlan\n",
    "\n",
    "**C4.5 / C5.0**  Extension of ID3 (Extension to ID3, ) -  Ross Quinlan\n",
    "\n",
    "**CHAID**   Chi-square Automated Interaction Detection - Bonferroni testing\n",
    "\n",
    "**CART**    Classification and Regression Trees (Uses : Gini Index )\n",
    "\n",
    "**QUEST**   Quick, Unbiased and Efficient Statistical Tree. - (Similar to CART)\n",
    "\n",
    "**CRUISE**  It splits each node into as many subnodes as the number of classes in the response variable. \n",
    "\n",
    "\n"
   ]
  },
  {
   "cell_type": "code",
   "execution_count": null,
   "metadata": {
    "collapsed": true
   },
   "outputs": [],
   "source": []
  }
 ],
 "metadata": {
  "kernelspec": {
   "display_name": "Python 3",
   "language": "python",
   "name": "python3"
  },
  "language_info": {
   "codemirror_mode": {
    "name": "ipython",
    "version": 3
   },
   "file_extension": ".py",
   "mimetype": "text/x-python",
   "name": "python",
   "nbconvert_exporter": "python",
   "pygments_lexer": "ipython3",
   "version": "3.6.1"
  }
 },
 "nbformat": 4,
 "nbformat_minor": 2
}
