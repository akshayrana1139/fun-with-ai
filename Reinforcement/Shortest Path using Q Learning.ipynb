{
 "cells": [
  {
   "cell_type": "code",
   "execution_count": 5,
   "metadata": {},
   "outputs": [],
   "source": [
    "%config IPCompleter.greedy=True"
   ]
  },
  {
   "cell_type": "code",
   "execution_count": 1,
   "metadata": {},
   "outputs": [],
   "source": [
    "import numpy as np\n",
    "import pylab as plt\n",
    "points_list = [(0,1), (1,5), (5,6), (5,4), (1,2), (2,3), (2,7)]"
   ]
  },
  {
   "cell_type": "code",
   "execution_count": 11,
   "metadata": {},
   "outputs": [
    {
     "data": {
      "image/png": "[encoded data removed]",
      "text/plain": [
       "<matplotlib.figure.Figure at 0x186cccec0b8>"
      ]
     },
     "metadata": {},
     "output_type": "display_data"
    }
   ],
   "source": [
    "goal = 7\n",
    "import networkx as nx\n",
    "G = nx.Graph()\n",
    "G.add_edges_from(points_list)\n",
    "pos = nx.spring_layout(G)\n",
    "nx.draw_networkx_nodes(G, pos)\n",
    "nx.draw_networkx_edges(G, pos)\n",
    "nx.draw_networkx_labels(G, pos)\n",
    "plt.show()"
   ]
  },
  {
   "cell_type": "code",
   "execution_count": 12,
   "metadata": {},
   "outputs": [
    {
     "data": {
      "text/plain": [
       "matrix([[-1., -1., -1., -1., -1., -1., -1., -1.],\n",
       "        [-1., -1., -1., -1., -1., -1., -1., -1.],\n",
       "        [-1., -1., -1., -1., -1., -1., -1., -1.],\n",
       "        [-1., -1., -1., -1., -1., -1., -1., -1.],\n",
       "        [-1., -1., -1., -1., -1., -1., -1., -1.],\n",
       "        [-1., -1., -1., -1., -1., -1., -1., -1.],\n",
       "        [-1., -1., -1., -1., -1., -1., -1., -1.],\n",
       "        [-1., -1., -1., -1., -1., -1., -1., -1.]])"
      ]
     },
     "execution_count": 12,
     "metadata": {},
     "output_type": "execute_result"
    }
   ],
   "source": [
    "R = np.matrix(np.ones(shape=(8,8)))\n",
    "R *= -1\n",
    "R"
   ]
  },
  {
   "cell_type": "code",
   "execution_count": 13,
   "metadata": {},
   "outputs": [
    {
     "name": "stdout",
     "output_type": "stream",
     "text": [
      "(0, 1)\n",
      "(1, 5)\n",
      "(5, 6)\n",
      "(5, 4)\n",
      "(1, 2)\n",
      "(2, 3)\n",
      "(2, 7)\n"
     ]
    },
    {
     "data": {
      "text/plain": [
       "matrix([[ -1.,   0.,  -1.,  -1.,  -1.,  -1.,  -1.,  -1.],\n",
       "        [  0.,  -1.,   0.,  -1.,  -1.,   0.,  -1.,  -1.],\n",
       "        [ -1.,   0.,  -1.,   0.,  -1.,  -1.,  -1., 100.],\n",
       "        [ -1.,  -1.,   0.,  -1.,  -1.,  -1.,  -1.,  -1.],\n",
       "        [ -1.,  -1.,  -1.,  -1.,  -1.,   0.,  -1.,  -1.],\n",
       "        [ -1.,   0.,  -1.,  -1.,   0.,  -1.,   0.,  -1.],\n",
       "        [ -1.,  -1.,  -1.,  -1.,  -1.,   0.,  -1.,  -1.],\n",
       "        [ -1.,  -1.,   0.,  -1.,  -1.,  -1.,  -1., 100.]])"
      ]
     },
     "execution_count": 13,
     "metadata": {},
     "output_type": "execute_result"
    }
   ],
   "source": [
    "# Setting Rewards\n",
    "\n",
    "for point in points_list:\n",
    "    print(point)\n",
    "    if(point[1]==goal):\n",
    "        R[point] = 100\n",
    "    else:\n",
    "        R[point] = 0\n",
    "        \n",
    "    if(point[0] == goal):\n",
    "        R[point[::-1]] = 100\n",
    "    else:\n",
    "        R[point[::-1]] = 0\n",
    "\n",
    "R[goal, goal] = 100\n",
    "\n",
    "R"
   ]
  },
  {
   "cell_type": "code",
   "execution_count": 24,
   "metadata": {},
   "outputs": [
    {
     "data": {
      "text/plain": [
       "matrix([[0., 0., 0., 0., 0., 0., 0., 0.],\n",
       "        [0., 0., 0., 0., 0., 0., 0., 0.],\n",
       "        [0., 0., 0., 0., 0., 0., 0., 0.],\n",
       "        [0., 0., 0., 0., 0., 0., 0., 0.],\n",
       "        [0., 0., 0., 0., 0., 0., 0., 0.],\n",
       "        [0., 0., 0., 0., 0., 0., 0., 0.],\n",
       "        [0., 0., 0., 0., 0., 0., 0., 0.],\n",
       "        [0., 0., 0., 0., 0., 0., 0., 0.]])"
      ]
     },
     "execution_count": 24,
     "metadata": {},
     "output_type": "execute_result"
    }
   ],
   "source": [
    "Q = np.matrix(np.zeros([8,8]))\n",
    "\n",
    "# learning parameter\n",
    "gamma = 0.8\n",
    "\n",
    "initial_state = 1\n",
    "\n",
    "def available_actions(state):\n",
    "    current_state_row = R[state,]\n",
    "    av_act = np.where(current_state_row >= 0)[1]\n",
    "    return av_act\n",
    "\n",
    "available_act = available_actions(initial_state) \n",
    "\n",
    "def sample_next_action(available_actions_range):\n",
    "    next_action = int(np.random.choice(available_act,1))\n",
    "    return next_action\n",
    "\n",
    "action = sample_next_action(available_act)\n",
    "\n",
    "def update(current_state, action, gamma, i):\n",
    "    \n",
    "  max_index = np.where(Q[action,] == np.max(Q[action,]))[1]\n",
    "  \n",
    "  if max_index.shape[0] > 1:\n",
    "      max_index = int(np.random.choice(max_index, size = 1))\n",
    "  else:\n",
    "      max_index = int(max_index)\n",
    "  max_value = Q[action, max_index]\n",
    "  \n",
    "  Q[current_state, action] = R[current_state, action] + gamma * max_value\n",
    "  if (i%70==0):\n",
    "      print('max_value', R[current_state, action] + gamma * max_value)\n",
    "  \n",
    "  if (np.max(Q) > 0):\n",
    "    return(np.sum(Q/np.max(Q)*100))\n",
    "  else:\n",
    "    return (0)\n",
    "    \n",
    "# update(initial_state, action, gamma)\n",
    "Q"
   ]
  },
  {
   "cell_type": "code",
   "execution_count": 26,
   "metadata": {},
   "outputs": [
    {
     "name": "stdout",
     "output_type": "stream",
     "text": [
      "max_value 319.87635843105625\n",
      "Score: 982.5696656338736\n",
      "max_value 255.96758810455086\n",
      "Score: 982.6255852088477\n",
      "max_value 399.99564974903274\n",
      "Score: 982.6858237371475\n",
      "max_value 399.9982181372039\n",
      "Score: 982.7159402636769\n",
      "max_value 319.9985745097631\n",
      "Score: 982.7177752524269\n",
      "max_value 255.9988596078105\n",
      "Score: 982.7173948115296\n",
      "max_value 399.9999373062765\n",
      "Score: 982.7191739307416\n",
      "max_value 255.999959876017\n",
      "Score: 982.7198827905027\n",
      "max_value 319.9999932683128\n",
      "Score: 982.7199312388622\n",
      "max_value 319.99999858826294\n",
      "Score: 982.7199903858741\n",
      "Trained Q matrix:\n",
      "[[  0.          64.           0.           0.           0.\n",
      "    0.           0.           0.        ]\n",
      " [ 51.19999999   0.          80.           0.           0.\n",
      "   51.19999983   0.           0.        ]\n",
      " [  0.          64.           0.          63.99999979   0.\n",
      "    0.           0.         100.        ]\n",
      " [  0.           0.          80.           0.           0.\n",
      "    0.           0.           0.        ]\n",
      " [  0.           0.           0.           0.           0.\n",
      "   51.19999999   0.           0.        ]\n",
      " [  0.          63.99999998   0.           0.          40.95999987\n",
      "    0.          40.95999987   0.        ]\n",
      " [  0.           0.           0.           0.           0.\n",
      "   51.19999983   0.           0.        ]\n",
      " [  0.           0.          79.99999998   0.           0.\n",
      "    0.           0.          99.99999997]]\n",
      "Most efficient path:\n",
      "[0, 1, 2, 7]\n"
     ]
    },
    {
     "data": {
      "image/png": "[encoded data removed]",
      "text/plain": [
       "<matplotlib.figure.Figure at 0x186c8e03358>"
      ]
     },
     "metadata": {},
     "output_type": "display_data"
    }
   ],
   "source": [
    "# Training\n",
    "scores = []\n",
    "for i in range(700):\n",
    "    current_state = np.random.randint(0, int(Q.shape[0]))\n",
    "    available_act = available_actions(current_state)\n",
    "    action = sample_next_action(available_act)\n",
    "    score = update(current_state,action,gamma, i)\n",
    "    scores.append(score)\n",
    "    if(i%70==0):\n",
    "        print ('Score:', str(score))\n",
    "    \n",
    "print(\"Trained Q matrix:\")\n",
    "print(Q/np.max(Q)*100)\n",
    "\n",
    "# Testing\n",
    "current_state = 0\n",
    "steps = [current_state]\n",
    "\n",
    "while current_state != 7:\n",
    "\n",
    "    next_step_index = np.where(Q[current_state,] == np.max(Q[current_state,]))[1]\n",
    "    \n",
    "    if next_step_index.shape[0] > 1:\n",
    "        next_step_index = int(np.random.choice(next_step_index, size = 1))\n",
    "    else:\n",
    "        next_step_index = int(next_step_index)\n",
    "    \n",
    "    steps.append(next_step_index)\n",
    "    current_state = next_step_index\n",
    "\n",
    "print(\"Most efficient path:\")\n",
    "print(steps)\n",
    "\n",
    "plt.plot(scores)\n",
    "plt.show()"
   ]
  }
 ],
 "metadata": {
  "kernelspec": {
   "display_name": "Python 3",
   "language": "python",
   "name": "python3"
  },
  "language_info": {
   "codemirror_mode": {
    "name": "ipython",
    "version": 3
   },
   "file_extension": ".py",
   "mimetype": "text/x-python",
   "name": "python",
   "nbconvert_exporter": "python",
   "pygments_lexer": "ipython3",
   "version": "3.6.3"
  }
 },
 "nbformat": 4,
 "nbformat_minor": 2
}
